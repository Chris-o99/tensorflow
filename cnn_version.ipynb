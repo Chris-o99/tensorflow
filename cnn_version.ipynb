{
  "nbformat": 4,
  "nbformat_minor": 0,
  "metadata": {
    "colab": {
      "name": "Untitled0.ipynb",
      "provenance": [],
      "collapsed_sections": [],
      "authorship_tag": "ABX9TyNX/CSlGZFj2+HpvGfl4LPH",
      "include_colab_link": true
    },
    "kernelspec": {
      "name": "python3",
      "display_name": "Python 3"
    }
  },
  "cells": [
    {
      "cell_type": "markdown",
      "metadata": {
        "id": "view-in-github",
        "colab_type": "text"
      },
      "source": [
        "<a href=\"https://colab.research.google.com/github/Chris-o99/tensorflow/blob/master/cnn_version.ipynb\" target=\"_parent\"><img src=\"https://colab.research.google.com/assets/colab-badge.svg\" alt=\"Open In Colab\"/></a>"
      ]
    },
    {
      "cell_type": "code",
      "metadata": {
        "id": "to1kNLydFrr5",
        "colab_type": "code",
        "colab": {
          "base_uri": "https://localhost:8080/",
          "height": 418
        },
        "outputId": "ebcc66f7-a7c7-4c4b-a424-4b8f20e312e4"
      },
      "source": [
        "  \n",
        "from tensorflow.keras.layers import Input, Dense, Conv2D, MaxPooling2D, UpSampling2D\n",
        "from tensorflow.keras.models import Model\n",
        "from tensorflow.keras import regularizers\n",
        "\n",
        "from tensorflow.keras.datasets import mnist\n",
        "import numpy as np\n",
        "import matplotlib.pyplot as plt\n",
        "\n",
        "(x_train, _), (x_test, _) = mnist.load_data()\n",
        "\n",
        "x_train = x_train.astype('float32') / 255.\n",
        "x_test = x_test.astype('float32') / 255.\n",
        "x_train = np.reshape(x_train, (len(x_train), 28, 28, 1))  # adapt this if using `channels_first` image data format\n",
        "x_test = np.reshape(x_test, (len(x_test), 28, 28, 1))  # adapt this if using `channels_first` image data format\n",
        "\n",
        "\n",
        "# this is the size of our encoded representations\n",
        "encoding_dim = 32 # from 784 to 32 compression\n",
        "\n",
        "\n",
        "\n",
        "\n",
        "#create encoder-part with shape 784->128->64->32\n",
        "encoded_input = Input(shape=(28, 28, 1))\n",
        "encoded = Conv2D(16, (3, 3), activation='relu', padding='same')(encoded_input)\n",
        "encoded = MaxPooling2D((2, 2), padding='same')(encoded)\n",
        "encoded = Conv2D(8, (3, 3), activation='relu', padding='same')(encoded)\n",
        "encoded = MaxPooling2D((2, 2), padding='same')(encoded)\n",
        "encoded = Conv2D(8, (3, 3), activation='relu', padding='same')(encoded)\n",
        "encoded = MaxPooling2D((2, 2), padding='same')(encoded)\n",
        "\n",
        "#create encoder-moderl from encoding layer\n",
        "encoder = Model(encoded_input, encoded)\n",
        "\n",
        "#create decoder-part with shape 32->64->128->784\n",
        "decodedInput = Input(shape=(4, 4, 8))\n",
        "decoded = Conv2D(8, (3, 3), activation='relu', padding='same')(decodedInput)\n",
        "decoded = UpSampling2D((2, 2))(decoded)\n",
        "decoded = Conv2D(8, (3, 3), activation='relu', padding='same')(decoded)\n",
        "decoded = UpSampling2D((2, 2))(decoded)\n",
        "decoded = Conv2D(16, (3, 3), activation='relu')(decoded)\n",
        "decoded = UpSampling2D((2, 2))(decoded)\n",
        "decoded = Conv2D(1, (3, 3), activation='sigmoid', padding='same')(decoded)\n",
        "\n",
        "#create decoder-model from decoding layer\n",
        "decoder = Model(decodedInput,decoded)\n",
        "\n",
        "\n",
        "# this model maps an input to its reconstruction\n",
        "autoencoder_input = Input(shape=(28, 28, 1))\n",
        "encoded_img = encoder(autoencoder_input)\n",
        "decoded_img = decoder(encoded_img)\n",
        "autoencoder = Model(autoencoder_input, decoded_img)\n",
        "\n",
        "\n",
        "\n",
        "\n",
        "# create a placeholder for an encoded (32-dimensional) input\n",
        "encoded_input = Input(shape=(encoding_dim,))\n",
        "# retrieve the last layer of the autoencoder model\n",
        "\n",
        "# create the decoder model\n",
        "autoencoder.compile(optimizer='adam', loss='binary_crossentropy')\n",
        "\n",
        "\n",
        "autoencoder.fit(x_train, x_train,\n",
        "                epochs=5,\n",
        "                batch_size=256,\n",
        "                shuffle=True,\n",
        "                validation_data=(x_test, x_test))\n",
        "\n",
        "\n",
        "# encode and decode some digits\n",
        "# note that we take them from the *test* set\n",
        "encoded_imgs = encoder.predict(x_test)\n",
        "decoded_imgs = decoder.predict(encoded_imgs)\n",
        "\n",
        "\n",
        "n = 10  # how many digits we will display\n",
        "plt.figure(figsize=(20, 4))\n",
        "for i in range(n):\n",
        "    # display original\n",
        "    ax = plt.subplot(2, n, i + 1)\n",
        "    plt.imshow(x_test[i].reshape(28, 28))\n",
        "    plt.gray()\n",
        "    ax.get_xaxis().set_visible(False)\n",
        "    ax.get_yaxis().set_visible(False)\n",
        "\n",
        "    # display reconstruction\n",
        "    ax = plt.subplot(2, n, i + 1 + n)\n",
        "    plt.imshow(decoded_imgs[i].reshape(28, 28))\n",
        "    plt.gray()\n",
        "    ax.get_xaxis().set_visible(False)\n",
        "    ax.get_yaxis().set_visible(False)\n",
        "plt.show()"
      ],
      "execution_count": 5,
      "outputs": [
        {
          "output_type": "stream",
          "text": [
            "Epoch 1/5\n",
            "235/235 [==============================] - 74s 313ms/step - loss: 0.2770 - val_loss: 0.1697\n",
            "Epoch 2/5\n",
            "235/235 [==============================] - 72s 306ms/step - loss: 0.1548 - val_loss: 0.1415\n",
            "Epoch 3/5\n",
            "235/235 [==============================] - 72s 306ms/step - loss: 0.1364 - val_loss: 0.1300\n",
            "Epoch 4/5\n",
            "235/235 [==============================] - 72s 305ms/step - loss: 0.1280 - val_loss: 0.1237\n",
            "Epoch 5/5\n",
            "235/235 [==============================] - 72s 306ms/step - loss: 0.1227 - val_loss: 0.1190\n"
          ],
          "name": "stdout"
        },
        {
          "output_type": "display_data",
          "data": {
            "image/png": "[encoded data removed]",
            "text/plain": [
              "<Figure size 1440x288 with 20 Axes>"
            ]
          },
          "metadata": {
            "tags": [],
            "needs_background": "light"
          }
        }
      ]
    }
  ]
}